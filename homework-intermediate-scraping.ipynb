{
  "cells": [
    {
      "cell_type": "markdown",
      "id": "326c68ea-e534-4c7b-92cd-b152e2ab28f3",
      "metadata": {},
      "source": [
        "# Intermediate Scraping Homework: Wikipedia Table\n",
        "\n",
        "In this assignment, we'll be extracting data from Wikipedia's table of the tallest buildings in Brooklyn: https://en.wikipedia.org/wiki/List_of_tallest_buildings_in_Brooklyn"
      ]
    },
    {
      "cell_type": "markdown",
      "id": "ee21190f-85e3-411c-ab91-a394747c6ee3",
      "metadata": {},
      "source": [
        "### 0) Setup\n",
        "\n",
        "Import `requests`, `BeautifulSoup`, and `pandas`. Although this homework uses `BeautifulSoup`, you can choose to use `lxml` instead, if you prefer."
      ]
    },
    {
      "cell_type": "code",
      "execution_count": 154,
      "id": "ac4bb8ca-0a2e-4880-93a1-781d725b7c8b",
      "metadata": {},
      "outputs": [],
      "source": [
        "import requests\n",
        "from bs4 import BeautifulSoup\n",
        "import pandas as pd"
      ]
    },
    {
      "cell_type": "markdown",
      "id": "1057c416-4fe6-435c-9feb-aee4ee3e1d4e",
      "metadata": {},
      "source": [
        "### 1) Grab the HTML for the webpage linked above\n",
        "\n",
        "Use `requests` to get the HTML, assigning it to a variable"
      ]
    },
    {
      "cell_type": "code",
      "execution_count": 155,
      "id": "249f7c7c-f999-45a4-bbd1-553d08ecb6f3",
      "metadata": {},
      "outputs": [],
      "source": [
        "http_response = requests.get(\"https://en.wikipedia.org/wiki/List_of_tallest_buildings_in_Brooklyn\")\n",
        "\n",
        "# store the HTML of the page in a variable\n",
        "html = http_response.text"
      ]
    },
    {
      "cell_type": "markdown",
      "id": "92457832-c428-42dc-9f57-7dd9d037856b",
      "metadata": {},
      "source": [
        "### 2) Convert the HTML into a `BeautifulSoup` object"
      ]
    },
    {
      "cell_type": "code",
      "execution_count": 156,
      "id": "31b1c404-b7dc-4842-bd13-c75e77b51477",
      "metadata": {},
      "outputs": [],
      "source": [
        "# convert the HTML to DOM representation using BeautifulSoup\n",
        "soup = BeautifulSoup(html)"
      ]
    },
    {
      "cell_type": "markdown",
      "id": "a5c1fd45-4005-48d7-bca2-c8c523b1c060",
      "metadata": {},
      "source": [
        "### 3) Use `.select(...)` (and `[0]`) to select the main table\n",
        "\n",
        "That's the one directly under the \"Tallest buildings\" heading.\n",
        "\n",
        "Print out the first 100 characters of text from the table to make sure you have the right one."
      ]
    },
    {
      "cell_type": "code",
      "execution_count": 157,
      "id": "e7791e7f-c6f3-4f2a-bd7e-b55c3b40022d",
      "metadata": {},
      "outputs": [
        {
          "name": "stdout",
          "output_type": "stream",
          "text": [
            "\n",
            "\n",
            "Rank\n",
            "\n",
            "Name[a]\n",
            "\n",
            "Image\n",
            "\n",
            "Heightft (m)\n",
            "\n",
            "Floors\n",
            "\n",
            "Year completed\n",
            "\n",
            "Notes\n",
            "\n",
            "\n",
            "1\n",
            "\n",
            "The Brooklyn Tower\n",
            "\n",
            "\n",
            "\n",
            "1,066\n"
          ]
        }
      ],
      "source": [
        "# find the first table in the HTML\n",
        "table = soup.select(\"table\")[0]\n",
        "print(table.text[:100])\n",
        "\n",
        "# or find the first table with the class \"wikitable\"\n",
        "# table = soup.select(\".wikitable\")[0]\n",
        "# print(table.text[:100])\n",
        "\n"
      ]
    },
    {
      "cell_type": "markdown",
      "id": "e4181ff2-64d6-47e7-8cb0-4bcb453b5a24",
      "metadata": {},
      "source": [
        "### 4) Use `.select(...)` (and `[0]`) again to select the table's first row\n",
        "\n",
        "... which is its header. (Reminder that the `<thead>` tag is optional. Wikipedia tables don't use it.)"
      ]
    },
    {
      "cell_type": "code",
      "execution_count": 158,
      "id": "073e34ce-0836-4657-a4ea-2b22c8deb4ab",
      "metadata": {},
      "outputs": [
        {
          "name": "stdout",
          "output_type": "stream",
          "text": [
            "\n",
            "Rank\n",
            "\n",
            "Name[a]\n",
            "\n",
            "Image\n",
            "\n",
            "Heightft (m)\n",
            "\n",
            "Floors\n",
            "\n",
            "Year completed\n",
            "\n",
            "Notes\n",
            "\n"
          ]
        }
      ],
      "source": [
        "first_row = table.select(\"tr\")[0]\n",
        "print(first_row.text)"
      ]
    },
    {
      "cell_type": "markdown",
      "id": "10dec4f1-86fa-4776-8964-468aebe36b6a",
      "metadata": {},
      "source": [
        "### 5) Extract the column names from that header\n",
        "\n",
        "Use `.strip()` to remove any leading or trailing whitespace from the names.\n",
        "\n",
        "First, try doing this with a standard `for` loop:"
      ]
    },
    {
      "cell_type": "code",
      "execution_count": 159,
      "id": "fc38e978-2079-4fe7-bd4e-e4dc20cba4d4",
      "metadata": {},
      "outputs": [
        {
          "name": "stdout",
          "output_type": "stream",
          "text": [
            "['Rank', 'Name[a]', 'Image', 'Heightft (m)', 'Floors', 'Year completed', 'Notes']\n"
          ]
        }
      ],
      "source": [
        "column_names = []\n",
        "\n",
        "for th in first_row.select(\"th\"):\n",
        "    column_names.append(th.text.strip())\n",
        "\n",
        "print(column_names)"
      ]
    },
    {
      "cell_type": "markdown",
      "id": "226f4125",
      "metadata": {},
      "source": [
        "Try to do the same, but with a list comprehension:"
      ]
    },
    {
      "cell_type": "code",
      "execution_count": 160,
      "id": "999fbfb0",
      "metadata": {},
      "outputs": [
        {
          "name": "stdout",
          "output_type": "stream",
          "text": [
            "['Rank', 'Name[a]', 'Image', 'Heightft (m)', 'Floors', 'Year completed', 'Notes']\n"
          ]
        }
      ],
      "source": [
        "column_names = [th.text.strip() for th in first_row.select(\"th\")]\n",
        "print(column_names)"
      ]
    },
    {
      "cell_type": "markdown",
      "id": "1c90e4fa-fb91-4cc4-bf2d-84d692bfc9b2",
      "metadata": {},
      "source": [
        "### 6) Select all non-header row *elements* from the table\n",
        "\n",
        "Since the header was the first row, you'll want to skip that one. How many rows are there? (Check with your eyes that this number matches what you deduce from the rankings column in the browser-rendered table.)"
      ]
    },
    {
      "cell_type": "code",
      "execution_count": 161,
      "id": "d0e982d7-4657-4ed3-ae4b-cf3e900c2763",
      "metadata": {},
      "outputs": [
        {
          "name": "stdout",
          "output_type": "stream",
          "text": [
            "80\n"
          ]
        }
      ],
      "source": [
        "### 6) Select all non-header row *elements* from the table\n",
        "row_not_header = table.select(\"tr\")[1:]\n",
        "print(len(row_not_header))"
      ]
    },
    {
      "cell_type": "markdown",
      "id": "ae6ed103-7aa1-4d24-9842-20a7c51eb1f4",
      "metadata": {},
      "source": [
        "### 7) For each row, extract the text of each cell into a Python list\n",
        "\n",
        "First, try this as two nested `for` loops:"
      ]
    },
    {
      "cell_type": "code",
      "execution_count": 162,
      "id": "7cb57508",
      "metadata": {},
      "outputs": [
        {
          "name": "stdout",
          "output_type": "stream",
          "text": [
            "[['1', 'The Brooklyn Tower', '', '1,066 (325)', '93', '2022', 'Topped out in October 2021.[2][23][24][25]'], ['2', 'Brooklyn Point', '', '720 (219)', '68', '2019', \"The final phase of Extell's City Point development; topped out in April 2019, it is now the second tallest building in Brooklyn.[26] Also known as 138 Willoughby Street,[27][28] 1 City Point,[29] and City Point Tower III.[29][30][31]\"], ['3', '11 Hoyt', '', '626 (191)', '51', '2020', \"Topped out in June 2019.[32] A redevelopment of Macy's former footprint in Downtown Brooklyn, with a design seemingly inspired by 8 Spruce Street.[33][34]\"], ['4', 'The Hub', '', '611 (186)', '52', '2017', 'Also known as 333 Schermerhorn Street. Topped out on December 16, 2015.[35][36][37][38][39]'], ['5', '98 Dekalb Avenue', 'Upload image', '610 (186)', '49', '2025', 'Topped out in June 2024.[40][41]'], ['6', 'AVA DoBro', '', '596 (182)', '58', '2015', 'Also known as 100 Willoughby Street, Avalon Willoughby Square, and 214 Duffield Street.[42][43][44]'], ['7', '388 Bridge Street', '', '590 (180)', '51', '2014', '[42][45][46]'], ['8', '589 Fulton Street', '', '575 (175)', '51', '2025', 'Topped out in June 2024.[47][48]'], ['9', '346 Kent Avenue Tower I', 'Upload image', '574 (175)', '57', '2024', 'Topped out in December 2023.[49][50][51][52]'], ['10', '590 Fulton Street', '', '568 (173)', '52', '2016', 'Also known as 250 Ashland Place and Gotham BAM Tower[53][54][55]'], ['11', '18 Sixth Avenue', '', '532 (162)', '49', '2022', 'Also known as the Pacific Park B4 Tower.[56][57][58]'], ['12', 'City Tower', '', '515 (157)', '46', '2016', 'Also known as City Point Tower II,[59] 10 City Point, and 336 Flatbush Avenue Extension[60]'], ['13', 'The Brooklyner', '', '514 (157)', '51', '2010', 'Tallest high-rise building in Brooklyn between 2009 and 2013.[3][4][61][62]'], ['14', 'Williamsburgh Savings Bank Tower', '', '512 (156)', '42', '1929', 'Tallest high-rise building in Brooklyn between 1929 and 2009. Also known as One Hanson Place.[5][63]'], ['15', '540 Fulton Street', '', '511 (156)', '43', '2020', 'Topped out in 2019.[64][65]'], ['16', '625 Fulton Street', 'Upload image', '500 (152)', '35', '2024', 'Topped out in December 2023.[66][67]'], ['17', 'One Willoughby Square', '', '495 (151)', '34', '2021', \"Originally planned as a 65-story residential development, the building is now under construction as a 34-story commercial and office space.[68] Topped out in October 2019, and is Brooklyn's tallest office building.[69]\"], ['18', '66 Rockwell Place', '', '489 (149)', '44', '2014', '[70][71]'], ['19', 'The Alloy Block - Phase One (100 Flatbush)', 'Upload image', '482 (147)', '44', '2023', 'Topped out in January 2023.[72][73]'], ['20', '12 Metrotech Center', '', '473 (144)', '32', '2005', 'Also known as the Kings County Supreme and Family Courthouse.[74][75]'], ['21', '346 Kent Avenue Tower II', 'Upload image', '472 (144)', '39', '2024', 'Topped out in December 2023.[76]'], ['22', 'Montague–Court Building', '', '462 (141)', '35', '1927', 'Tallest high-rise building in Brooklyn between 1927 and 1929. Also known as 16 Court Street.[17][77]'], ['23', '15 Hanover Place', 'Upload image', '463 (141)', '34', '2024', '[78][79]'], ['24', 'Calyer Place Tower I', 'Upload image', '439 (134)', '40', '2022', '[80][81]'], ['25', 'One South First', '', '435 (133)', '42', '2019', 'Topped out in 2019. The building contains 330 residential units, and 150,000 square feet of office space. [82] The skyscraper is the second structure to be developed as part of the Domino Sugar Factory redevelopment plan.[83][84]'], ['26', '196 Willoughby Street', '', '435 (133)', '34', '2020', '[85]'], ['27', 'Oro', '', '432 (132)', '40', '2008', '[86][87]'], ['28', 'Toren', '', '427 (130)', '37', '2009', '[88][89]'], ['29', 'The Amberly', '', '425 (130)', '33', '2017', 'Also known as 120 Nassau Street[1][90][91]'], ['30', '1 Metrotech Center', '', '412 (126)', '23', '1992', '[92][93]'], ['31', '664 Pacific Street', '', '412 (126)', '26', '2020', 'Alternately addressed as 37 Sixth Avenue or 495 Dean Street.[94][95]'], ['32', '1 Clinton Street', '', '409 (125)', '38', '2019', 'Also known as 280 Cadman Plaza West. Will replace a branch of the Brooklyn Public Library. Topped out in March 2019.[96][97][98]'], ['33', 'DKLB BKLN', '', '405 (123)', '34', '2010', 'Also known as 80 DeKalb Avenue.[99][100]'], ['34', '87 Commercial Street', 'Upload image', '402 (123)', '40', '2022', '[101][102][103]'], ['35 =', '16 DuPont Street', 'Upload image', '400 (122)', '40', '2024', 'Topped out in January 2024.[104][105][106]'], ['36 =', 'One Pierrepont Plaza', '', '400 (122)', '21', '1988', '[107]'], ['36 =', 'BKLYN AIR', '', '400 (122)', '39', '2014', 'Also known as Oro 2 Condominium.[108][109][110][111]'], ['36 =', '41 Blue Slip', '', '400 (122)', '40', '2020', 'Topped out in May 2019.[112][113][114]'], ['36 =', 'Greenpoint Block D 40 Story Tower', '', '400 (122)', '40', '2022', 'Informally known as the Tetris buildings.[115][116] Alternately addressed as 221 West Street. Topped-out in April 2021.[117]'], ['36 =', '30 Front Street', 'Upload image', '400 (122)', '26', '2022', 'Topped out in August 2021.[118][119]'], ['41 =', 'Brooklyn Renaissance Plaza', '', '398 (121)', '32', '1998', 'Also known as the New York Marriott at the Brooklyn Bridge.[120][121]'], ['41 =', '1 North 4th Place', '', '398 (121)', '41', '2014', 'Also known as Three Northside Piers, 1N4th, and One North Fourth.[122][123]'], ['41 =', '2 North 6th Place', 'Upload image', '398 (121)', '40', '2016', '[124]'], ['44', '4 Metrotech Center', '', '394 (120)', '25', '1993', 'Part of the MetroTech Center development[125][126]'], ['45', 'Avalon Fort Greene', '', '393 (120)', '42', '2010', '[127][128]'], ['46', 'The Greenpoint*', '', '392 (119)', '39', '2018', 'Also known as 10 Huron and 21 India Street[129][130]'], ['47', \"Jehovah's Witnesses Dormitory\", '', '378 (115)', '30', '1995', '[131][132]'], ['48', '1 Bell Slip', 'Upload image', '369 (112)', '31', '2022', '[133][134]'], ['49', '300 Ashland', '', '364 (111)', '32', '2016', 'Also known as Brooklyn Academy of Music South (BAM South) and 286 Ashland Place.[135]'], ['50', '7 DeKalb Avenue', '', '361 (110)', '27', '2016', 'Also known as City Point Tower I[136] and 70 Fleet Street.[137]'], ['51', '141 Willoughby Street', '', '360 (110)', '24', '2022', 'Topped out in November 2021.[138] Former site of the Institute of Design and Construction.[139][140]'], ['52', '2230 Cropsey Avenue', '', '356 (109)', '30', '2023', 'Topped out in February 2023. Also known as The Shoreline.[141][142]'], ['53', 'Court and Remsen Building', '', '350 (107)', '27', '1926', 'Tallest high-rise building in Brooklyn between 1922 and 1926. Also known as the Chamber of Commerce Building.[12][143][144]'], ['54', 'BellTel Lofts', '', '348 (106)', '25', '1931', 'Also known as the New York Telephone Company Building and 101 Willoughby Street.[145][146]'], ['55', '461 Dean Street', '', '347 (106)', '32', '2016', 'Also known as B2 BKLYN.[147]'], ['56', '86 Fleet Place', '', '346 (105)', '32', '2017', '[148]'], ['57', '75 Livingston Street', '', '343 (105)', '30', '1926', 'Also known as the Brooklyn Chamber of Commerce and Court Chambers Building.[149][150][151]'], ['58', 'Tivoli Towers', '', '341 (104)', '33', '1974', '[152][153]'], ['59', '37 Blue Slip', '', '340 (104)', '30', '2018', 'Also known as One Blue Slip.[154][155]'], ['60', 'J Condominium', '', '337 (103)', '31', '2007', 'Also known as J Condo.[156][157]'], ['61', '200 Cadman Plaza', '', '333 (101)', '33', '1973', '[158]'], ['62', 'Archstone Brooklyn Heights', '', '331 (101)', '33', '2000', 'Also known as 180 Montague Street.[159]'], ['63', 'Two Northside Piers', '', '329 (100)', '30', '2009', '[160]'], ['64', '15 Metrotech Center', '', '325 (99)', '21', '2003', 'Also known as the Empire Blue Cross Blue Shield Headquarters.[161][162]'], ['65', '1524 Sheepshead Bay Road', '', '321 (98)', '28', '2018', 'Also known as 1 Brooklyn Bay, Avalon Brooklyn Bay, and 1501 Voorhies Avenue.[163][164]'], ['66', '123 Linden Boulevard', 'Upload image', '320 (98)', '26', '2020', '[165]'], ['67 =', 'St. George Towers', '', '315 (96)', '30', '1930', 'Also known as the St. George Hotel.[166][167]'], ['67 =', 'Quay Tower', 'Upload image', '315 (96)', '28', '2018', 'Also known as 50 Bridge Park Drive.[168]'], ['67 =', '550 Clinton Avenue', 'Upload image', '312 (95)', '29', '2021', '[169][170]'], ['70 =', 'Atlantic Terminal Houses 1', '', '310 (94)', '31', '1976', 'Also known as Atlantic Terminal Site 4B and 487 Carlton Avenue.[171][172]'], ['70 =', '436 Albee Square', '', '310 (94)', '28', '2017', '[173]'], ['72', '77 Commercial Street', 'Upload image', '306 (93)', '30', '2022', '[102][103][101]'], ['73', '111 Livingston Street', '', '301 (92)', '23', '1971', '[174][175]'], ['74', 'Greenpoint Block D 30 Story Tower', '', '300 (91)', '30', '2022', 'Informally known as the Tetris buildings. Alternately addressed as 221 West Street. Topped-out in April 2021.[115][116][117]'], ['75', 'The Edge – South Tower', '', '298 (91)', '30', '2009', 'Also known as The Edge I.[176][177]'], ['76', '595 Dean Street', 'Upload image', '298 (91)', '27', '2022', 'Topped out in February 2022.[178][179]'], ['77 =', 'Beacon Tower', '', '297 (91)', '23', '2007', '[180][181]'], ['77 =', 'One Northside Piers', '', '297 (91)', '29', '2008', '[182][183]'], ['77 =', '101 Clark Street', 'Upload image', '295 (90)', '30', '1973', '[184][185]'], ['77 =', '240 Willoughby Street', 'Upload image', '295 (90)', '30', '2023', 'Topped out.[186][187]']]\n"
          ]
        }
      ],
      "source": [
        "cell_textes = []\n",
        "for row in row_not_header:\n",
        "    cell_texts = []\n",
        "    for cell in row.select(\"td\"):\n",
        "        cell_texts.append(cell.text.strip())\n",
        "    cell_textes.append(cell_texts)\n",
        "print(cell_textes)"
      ]
    },
    {
      "cell_type": "markdown",
      "id": "5c75cc42",
      "metadata": {},
      "source": [
        "Try the same, but with two list comprehensions (one nested in the other):"
      ]
    },
    {
      "cell_type": "code",
      "execution_count": 163,
      "id": "977867a9-10b6-4fab-b6e4-dfb4b57d3f56",
      "metadata": {},
      "outputs": [
        {
          "name": "stdout",
          "output_type": "stream",
          "text": [
            "[['1', 'The Brooklyn Tower', '', '1,066 (325)', '93', '2022', 'Topped out in October 2021.[2][23][24][25]'], ['2', 'Brooklyn Point', '', '720 (219)', '68', '2019', \"The final phase of Extell's City Point development; topped out in April 2019, it is now the second tallest building in Brooklyn.[26] Also known as 138 Willoughby Street,[27][28] 1 City Point,[29] and City Point Tower III.[29][30][31]\"], ['3', '11 Hoyt', '', '626 (191)', '51', '2020', \"Topped out in June 2019.[32] A redevelopment of Macy's former footprint in Downtown Brooklyn, with a design seemingly inspired by 8 Spruce Street.[33][34]\"], ['4', 'The Hub', '', '611 (186)', '52', '2017', 'Also known as 333 Schermerhorn Street. Topped out on December 16, 2015.[35][36][37][38][39]'], ['5', '98 Dekalb Avenue', 'Upload image', '610 (186)', '49', '2025', 'Topped out in June 2024.[40][41]'], ['6', 'AVA DoBro', '', '596 (182)', '58', '2015', 'Also known as 100 Willoughby Street, Avalon Willoughby Square, and 214 Duffield Street.[42][43][44]'], ['7', '388 Bridge Street', '', '590 (180)', '51', '2014', '[42][45][46]'], ['8', '589 Fulton Street', '', '575 (175)', '51', '2025', 'Topped out in June 2024.[47][48]'], ['9', '346 Kent Avenue Tower I', 'Upload image', '574 (175)', '57', '2024', 'Topped out in December 2023.[49][50][51][52]'], ['10', '590 Fulton Street', '', '568 (173)', '52', '2016', 'Also known as 250 Ashland Place and Gotham BAM Tower[53][54][55]'], ['11', '18 Sixth Avenue', '', '532 (162)', '49', '2022', 'Also known as the Pacific Park B4 Tower.[56][57][58]'], ['12', 'City Tower', '', '515 (157)', '46', '2016', 'Also known as City Point Tower II,[59] 10 City Point, and 336 Flatbush Avenue Extension[60]'], ['13', 'The Brooklyner', '', '514 (157)', '51', '2010', 'Tallest high-rise building in Brooklyn between 2009 and 2013.[3][4][61][62]'], ['14', 'Williamsburgh Savings Bank Tower', '', '512 (156)', '42', '1929', 'Tallest high-rise building in Brooklyn between 1929 and 2009. Also known as One Hanson Place.[5][63]'], ['15', '540 Fulton Street', '', '511 (156)', '43', '2020', 'Topped out in 2019.[64][65]'], ['16', '625 Fulton Street', 'Upload image', '500 (152)', '35', '2024', 'Topped out in December 2023.[66][67]'], ['17', 'One Willoughby Square', '', '495 (151)', '34', '2021', \"Originally planned as a 65-story residential development, the building is now under construction as a 34-story commercial and office space.[68] Topped out in October 2019, and is Brooklyn's tallest office building.[69]\"], ['18', '66 Rockwell Place', '', '489 (149)', '44', '2014', '[70][71]'], ['19', 'The Alloy Block - Phase One (100 Flatbush)', 'Upload image', '482 (147)', '44', '2023', 'Topped out in January 2023.[72][73]'], ['20', '12 Metrotech Center', '', '473 (144)', '32', '2005', 'Also known as the Kings County Supreme and Family Courthouse.[74][75]'], ['21', '346 Kent Avenue Tower II', 'Upload image', '472 (144)', '39', '2024', 'Topped out in December 2023.[76]'], ['22', 'Montague–Court Building', '', '462 (141)', '35', '1927', 'Tallest high-rise building in Brooklyn between 1927 and 1929. Also known as 16 Court Street.[17][77]'], ['23', '15 Hanover Place', 'Upload image', '463 (141)', '34', '2024', '[78][79]'], ['24', 'Calyer Place Tower I', 'Upload image', '439 (134)', '40', '2022', '[80][81]'], ['25', 'One South First', '', '435 (133)', '42', '2019', 'Topped out in 2019. The building contains 330 residential units, and 150,000 square feet of office space. [82] The skyscraper is the second structure to be developed as part of the Domino Sugar Factory redevelopment plan.[83][84]'], ['26', '196 Willoughby Street', '', '435 (133)', '34', '2020', '[85]'], ['27', 'Oro', '', '432 (132)', '40', '2008', '[86][87]'], ['28', 'Toren', '', '427 (130)', '37', '2009', '[88][89]'], ['29', 'The Amberly', '', '425 (130)', '33', '2017', 'Also known as 120 Nassau Street[1][90][91]'], ['30', '1 Metrotech Center', '', '412 (126)', '23', '1992', '[92][93]'], ['31', '664 Pacific Street', '', '412 (126)', '26', '2020', 'Alternately addressed as 37 Sixth Avenue or 495 Dean Street.[94][95]'], ['32', '1 Clinton Street', '', '409 (125)', '38', '2019', 'Also known as 280 Cadman Plaza West. Will replace a branch of the Brooklyn Public Library. Topped out in March 2019.[96][97][98]'], ['33', 'DKLB BKLN', '', '405 (123)', '34', '2010', 'Also known as 80 DeKalb Avenue.[99][100]'], ['34', '87 Commercial Street', 'Upload image', '402 (123)', '40', '2022', '[101][102][103]'], ['35 =', '16 DuPont Street', 'Upload image', '400 (122)', '40', '2024', 'Topped out in January 2024.[104][105][106]'], ['36 =', 'One Pierrepont Plaza', '', '400 (122)', '21', '1988', '[107]'], ['36 =', 'BKLYN AIR', '', '400 (122)', '39', '2014', 'Also known as Oro 2 Condominium.[108][109][110][111]'], ['36 =', '41 Blue Slip', '', '400 (122)', '40', '2020', 'Topped out in May 2019.[112][113][114]'], ['36 =', 'Greenpoint Block D 40 Story Tower', '', '400 (122)', '40', '2022', 'Informally known as the Tetris buildings.[115][116] Alternately addressed as 221 West Street. Topped-out in April 2021.[117]'], ['36 =', '30 Front Street', 'Upload image', '400 (122)', '26', '2022', 'Topped out in August 2021.[118][119]'], ['41 =', 'Brooklyn Renaissance Plaza', '', '398 (121)', '32', '1998', 'Also known as the New York Marriott at the Brooklyn Bridge.[120][121]'], ['41 =', '1 North 4th Place', '', '398 (121)', '41', '2014', 'Also known as Three Northside Piers, 1N4th, and One North Fourth.[122][123]'], ['41 =', '2 North 6th Place', 'Upload image', '398 (121)', '40', '2016', '[124]'], ['44', '4 Metrotech Center', '', '394 (120)', '25', '1993', 'Part of the MetroTech Center development[125][126]'], ['45', 'Avalon Fort Greene', '', '393 (120)', '42', '2010', '[127][128]'], ['46', 'The Greenpoint*', '', '392 (119)', '39', '2018', 'Also known as 10 Huron and 21 India Street[129][130]'], ['47', \"Jehovah's Witnesses Dormitory\", '', '378 (115)', '30', '1995', '[131][132]'], ['48', '1 Bell Slip', 'Upload image', '369 (112)', '31', '2022', '[133][134]'], ['49', '300 Ashland', '', '364 (111)', '32', '2016', 'Also known as Brooklyn Academy of Music South (BAM South) and 286 Ashland Place.[135]'], ['50', '7 DeKalb Avenue', '', '361 (110)', '27', '2016', 'Also known as City Point Tower I[136] and 70 Fleet Street.[137]'], ['51', '141 Willoughby Street', '', '360 (110)', '24', '2022', 'Topped out in November 2021.[138] Former site of the Institute of Design and Construction.[139][140]'], ['52', '2230 Cropsey Avenue', '', '356 (109)', '30', '2023', 'Topped out in February 2023. Also known as The Shoreline.[141][142]'], ['53', 'Court and Remsen Building', '', '350 (107)', '27', '1926', 'Tallest high-rise building in Brooklyn between 1922 and 1926. Also known as the Chamber of Commerce Building.[12][143][144]'], ['54', 'BellTel Lofts', '', '348 (106)', '25', '1931', 'Also known as the New York Telephone Company Building and 101 Willoughby Street.[145][146]'], ['55', '461 Dean Street', '', '347 (106)', '32', '2016', 'Also known as B2 BKLYN.[147]'], ['56', '86 Fleet Place', '', '346 (105)', '32', '2017', '[148]'], ['57', '75 Livingston Street', '', '343 (105)', '30', '1926', 'Also known as the Brooklyn Chamber of Commerce and Court Chambers Building.[149][150][151]'], ['58', 'Tivoli Towers', '', '341 (104)', '33', '1974', '[152][153]'], ['59', '37 Blue Slip', '', '340 (104)', '30', '2018', 'Also known as One Blue Slip.[154][155]'], ['60', 'J Condominium', '', '337 (103)', '31', '2007', 'Also known as J Condo.[156][157]'], ['61', '200 Cadman Plaza', '', '333 (101)', '33', '1973', '[158]'], ['62', 'Archstone Brooklyn Heights', '', '331 (101)', '33', '2000', 'Also known as 180 Montague Street.[159]'], ['63', 'Two Northside Piers', '', '329 (100)', '30', '2009', '[160]'], ['64', '15 Metrotech Center', '', '325 (99)', '21', '2003', 'Also known as the Empire Blue Cross Blue Shield Headquarters.[161][162]'], ['65', '1524 Sheepshead Bay Road', '', '321 (98)', '28', '2018', 'Also known as 1 Brooklyn Bay, Avalon Brooklyn Bay, and 1501 Voorhies Avenue.[163][164]'], ['66', '123 Linden Boulevard', 'Upload image', '320 (98)', '26', '2020', '[165]'], ['67 =', 'St. George Towers', '', '315 (96)', '30', '1930', 'Also known as the St. George Hotel.[166][167]'], ['67 =', 'Quay Tower', 'Upload image', '315 (96)', '28', '2018', 'Also known as 50 Bridge Park Drive.[168]'], ['67 =', '550 Clinton Avenue', 'Upload image', '312 (95)', '29', '2021', '[169][170]'], ['70 =', 'Atlantic Terminal Houses 1', '', '310 (94)', '31', '1976', 'Also known as Atlantic Terminal Site 4B and 487 Carlton Avenue.[171][172]'], ['70 =', '436 Albee Square', '', '310 (94)', '28', '2017', '[173]'], ['72', '77 Commercial Street', 'Upload image', '306 (93)', '30', '2022', '[102][103][101]'], ['73', '111 Livingston Street', '', '301 (92)', '23', '1971', '[174][175]'], ['74', 'Greenpoint Block D 30 Story Tower', '', '300 (91)', '30', '2022', 'Informally known as the Tetris buildings. Alternately addressed as 221 West Street. Topped-out in April 2021.[115][116][117]'], ['75', 'The Edge – South Tower', '', '298 (91)', '30', '2009', 'Also known as The Edge I.[176][177]'], ['76', '595 Dean Street', 'Upload image', '298 (91)', '27', '2022', 'Topped out in February 2022.[178][179]'], ['77 =', 'Beacon Tower', '', '297 (91)', '23', '2007', '[180][181]'], ['77 =', 'One Northside Piers', '', '297 (91)', '29', '2008', '[182][183]'], ['77 =', '101 Clark Street', 'Upload image', '295 (90)', '30', '1973', '[184][185]'], ['77 =', '240 Willoughby Street', 'Upload image', '295 (90)', '30', '2023', 'Topped out.[186][187]']]\n"
          ]
        }
      ],
      "source": [
        "cell_textes = [[cell.text.strip() for cell in row.select(\"td\")] for row in row_not_header]\n",
        "print(cell_textes)"
      ]
    },
    {
      "cell_type": "markdown",
      "id": "e8a5c07b-c3c3-40c2-8aeb-9a3f1e62a207",
      "metadata": {},
      "source": [
        "### 8) Turn the data you've extracted into a `pandas` `DataFrame`"
      ]
    },
    {
      "cell_type": "code",
      "execution_count": 164,
      "id": "0a907b1b-4e45-4ad6-af9e-c95d872803d1",
      "metadata": {},
      "outputs": [
        {
          "data": {
            "text/html": [
              "<div>\n",
              "<style scoped>\n",
              "    .dataframe tbody tr th:only-of-type {\n",
              "        vertical-align: middle;\n",
              "    }\n",
              "\n",
              "    .dataframe tbody tr th {\n",
              "        vertical-align: top;\n",
              "    }\n",
              "\n",
              "    .dataframe thead th {\n",
              "        text-align: right;\n",
              "    }\n",
              "</style>\n",
              "<table border=\"1\" class=\"dataframe\">\n",
              "  <thead>\n",
              "    <tr style=\"text-align: right;\">\n",
              "      <th></th>\n",
              "      <th>Rank</th>\n",
              "      <th>Name[a]</th>\n",
              "      <th>Image</th>\n",
              "      <th>Heightft (m)</th>\n",
              "      <th>Floors</th>\n",
              "      <th>Year completed</th>\n",
              "      <th>Notes</th>\n",
              "    </tr>\n",
              "  </thead>\n",
              "  <tbody>\n",
              "    <tr>\n",
              "      <th>0</th>\n",
              "      <td>1</td>\n",
              "      <td>The Brooklyn Tower</td>\n",
              "      <td></td>\n",
              "      <td>1,066 (325)</td>\n",
              "      <td>93</td>\n",
              "      <td>2022</td>\n",
              "      <td>Topped out in October 2021.[2][23][24][25]</td>\n",
              "    </tr>\n",
              "    <tr>\n",
              "      <th>1</th>\n",
              "      <td>2</td>\n",
              "      <td>Brooklyn Point</td>\n",
              "      <td></td>\n",
              "      <td>720 (219)</td>\n",
              "      <td>68</td>\n",
              "      <td>2019</td>\n",
              "      <td>The final phase of Extell's City Point develop...</td>\n",
              "    </tr>\n",
              "    <tr>\n",
              "      <th>2</th>\n",
              "      <td>3</td>\n",
              "      <td>11 Hoyt</td>\n",
              "      <td></td>\n",
              "      <td>626 (191)</td>\n",
              "      <td>51</td>\n",
              "      <td>2020</td>\n",
              "      <td>Topped out in June 2019.[32] A redevelopment o...</td>\n",
              "    </tr>\n",
              "    <tr>\n",
              "      <th>3</th>\n",
              "      <td>4</td>\n",
              "      <td>The Hub</td>\n",
              "      <td></td>\n",
              "      <td>611 (186)</td>\n",
              "      <td>52</td>\n",
              "      <td>2017</td>\n",
              "      <td>Also known as 333 Schermerhorn Street. Topped ...</td>\n",
              "    </tr>\n",
              "    <tr>\n",
              "      <th>4</th>\n",
              "      <td>5</td>\n",
              "      <td>98 Dekalb Avenue</td>\n",
              "      <td>Upload image</td>\n",
              "      <td>610 (186)</td>\n",
              "      <td>49</td>\n",
              "      <td>2025</td>\n",
              "      <td>Topped out in June 2024.[40][41]</td>\n",
              "    </tr>\n",
              "    <tr>\n",
              "      <th>...</th>\n",
              "      <td>...</td>\n",
              "      <td>...</td>\n",
              "      <td>...</td>\n",
              "      <td>...</td>\n",
              "      <td>...</td>\n",
              "      <td>...</td>\n",
              "      <td>...</td>\n",
              "    </tr>\n",
              "    <tr>\n",
              "      <th>75</th>\n",
              "      <td>76</td>\n",
              "      <td>595 Dean Street</td>\n",
              "      <td>Upload image</td>\n",
              "      <td>298 (91)</td>\n",
              "      <td>27</td>\n",
              "      <td>2022</td>\n",
              "      <td>Topped out in February 2022.[178][179]</td>\n",
              "    </tr>\n",
              "    <tr>\n",
              "      <th>76</th>\n",
              "      <td>77 =</td>\n",
              "      <td>Beacon Tower</td>\n",
              "      <td></td>\n",
              "      <td>297 (91)</td>\n",
              "      <td>23</td>\n",
              "      <td>2007</td>\n",
              "      <td>[180][181]</td>\n",
              "    </tr>\n",
              "    <tr>\n",
              "      <th>77</th>\n",
              "      <td>77 =</td>\n",
              "      <td>One Northside Piers</td>\n",
              "      <td></td>\n",
              "      <td>297 (91)</td>\n",
              "      <td>29</td>\n",
              "      <td>2008</td>\n",
              "      <td>[182][183]</td>\n",
              "    </tr>\n",
              "    <tr>\n",
              "      <th>78</th>\n",
              "      <td>77 =</td>\n",
              "      <td>101 Clark Street</td>\n",
              "      <td>Upload image</td>\n",
              "      <td>295 (90)</td>\n",
              "      <td>30</td>\n",
              "      <td>1973</td>\n",
              "      <td>[184][185]</td>\n",
              "    </tr>\n",
              "    <tr>\n",
              "      <th>79</th>\n",
              "      <td>77 =</td>\n",
              "      <td>240 Willoughby Street</td>\n",
              "      <td>Upload image</td>\n",
              "      <td>295 (90)</td>\n",
              "      <td>30</td>\n",
              "      <td>2023</td>\n",
              "      <td>Topped out.[186][187]</td>\n",
              "    </tr>\n",
              "  </tbody>\n",
              "</table>\n",
              "<p>80 rows × 7 columns</p>\n",
              "</div>"
            ],
            "text/plain": [
              "    Rank                Name[a]         Image Heightft (m) Floors  \\\n",
              "0      1     The Brooklyn Tower                1,066 (325)     93   \n",
              "1      2         Brooklyn Point                  720 (219)     68   \n",
              "2      3                11 Hoyt                  626 (191)     51   \n",
              "3      4                The Hub                  611 (186)     52   \n",
              "4      5       98 Dekalb Avenue  Upload image    610 (186)     49   \n",
              "..   ...                    ...           ...          ...    ...   \n",
              "75    76        595 Dean Street  Upload image     298 (91)     27   \n",
              "76  77 =           Beacon Tower                   297 (91)     23   \n",
              "77  77 =    One Northside Piers                   297 (91)     29   \n",
              "78  77 =       101 Clark Street  Upload image     295 (90)     30   \n",
              "79  77 =  240 Willoughby Street  Upload image     295 (90)     30   \n",
              "\n",
              "   Year completed                                              Notes  \n",
              "0            2022         Topped out in October 2021.[2][23][24][25]  \n",
              "1            2019  The final phase of Extell's City Point develop...  \n",
              "2            2020  Topped out in June 2019.[32] A redevelopment o...  \n",
              "3            2017  Also known as 333 Schermerhorn Street. Topped ...  \n",
              "4            2025                   Topped out in June 2024.[40][41]  \n",
              "..            ...                                                ...  \n",
              "75           2022             Topped out in February 2022.[178][179]  \n",
              "76           2007                                         [180][181]  \n",
              "77           2008                                         [182][183]  \n",
              "78           1973                                         [184][185]  \n",
              "79           2023                              Topped out.[186][187]  \n",
              "\n",
              "[80 rows x 7 columns]"
            ]
          },
          "execution_count": 164,
          "metadata": {},
          "output_type": "execute_result"
        }
      ],
      "source": [
        "df = pd.DataFrame(cell_textes, columns=column_names)\n",
        "df"
      ]
    },
    {
      "cell_type": "markdown",
      "id": "536492f4-69f9-49ca-b22e-ce2d8beb85b6",
      "metadata": {},
      "source": [
        "### 9) Which years are represented by at least 5 buildings?"
      ]
    },
    {
      "cell_type": "code",
      "execution_count": 165,
      "id": "88bb2de8",
      "metadata": {},
      "outputs": [
        {
          "name": "stdout",
          "output_type": "stream",
          "text": [
            "<class 'pandas.core.frame.DataFrame'>\n",
            "RangeIndex: 80 entries, 0 to 79\n",
            "Data columns (total 7 columns):\n",
            " #   Column          Non-Null Count  Dtype \n",
            "---  ------          --------------  ----- \n",
            " 0   Rank            80 non-null     object\n",
            " 1   Name[a]         80 non-null     object\n",
            " 2   Image           80 non-null     object\n",
            " 3   Heightft (m)    80 non-null     object\n",
            " 4   Floors          80 non-null     object\n",
            " 5   Year completed  80 non-null     object\n",
            " 6   Notes           80 non-null     object\n",
            "dtypes: object(7)\n",
            "memory usage: 4.5+ KB\n"
          ]
        }
      ],
      "source": [
        "df.info()"
      ]
    },
    {
      "cell_type": "code",
      "execution_count": 166,
      "id": "62e51913-b5cc-4c26-a90f-fd82480d7568",
      "metadata": {},
      "outputs": [
        {
          "data": {
            "text/plain": [
              "Year completed\n",
              "2022    11\n",
              "2020     6\n",
              "2016     6\n",
              "2024     5\n",
              "Name: count, dtype: int64"
            ]
          },
          "execution_count": 166,
          "metadata": {},
          "output_type": "execute_result"
        }
      ],
      "source": [
        "# We need to count the number of buildings for each year\n",
        "year_counts = df[\"Year completed\"].value_counts()\n",
        "\n",
        "\n",
        "# Finally, we can filter the years that have at least 5 buildings\n",
        "years_with_5_buildings = year_counts[year_counts >= 5]\n",
        "\n",
        "years_with_5_buildings"
      ]
    },
    {
      "cell_type": "markdown",
      "id": "a5ec3b84-1288-4e61-8f24-5e53b6490e73",
      "metadata": {},
      "source": [
        "### 10) How many total floors do all the buildings have, combined?"
      ]
    },
    {
      "cell_type": "code",
      "execution_count": 167,
      "id": "bccf0ddb-e30a-436d-9be3-053cc26defbd",
      "metadata": {},
      "outputs": [
        {
          "data": {
            "text/plain": [
              "2905"
            ]
          },
          "execution_count": 167,
          "metadata": {},
          "output_type": "execute_result"
        }
      ],
      "source": [
        "# column floors to integer\n",
        "df['Floors'] = df['Floors'].str.extract('(\\d+)').astype(int)\n",
        "\n",
        "# sum of floors\n",
        "total_floors = df['Floors'].sum()\n",
        "total_floors"
      ]
    },
    {
      "cell_type": "markdown",
      "id": "6ffae15d-d9c3-466d-8abb-99ddecb2f2dd",
      "metadata": {},
      "source": [
        "### 11) How many of the buildings have their own Wikipedia page?\n",
        "\n",
        "For this, you'll need to query the row elements again; the information won't have been extracted into your `DataFrame`. \n",
        "\n",
        "(Hint: Whether a building has its own Wikipedia page isn't an explicit piece of data, but something you can infer from the presence of a particular sub-element.)"
      ]
    },
    {
      "cell_type": "code",
      "execution_count": 175,
      "id": "2428a36f",
      "metadata": {},
      "outputs": [
        {
          "name": "stdout",
          "output_type": "stream",
          "text": [
            "18\n"
          ]
        }
      ],
      "source": [
        "links = []\n",
        "for row in row_not_header:\n",
        "    cell = row.select(\"td\")[1]  # select the second td element\n",
        "    link = cell.select_one(\"a\")  # if a link exists in cell\n",
        "    if link:  # If such a link exists\n",
        "        links.append(1)  # Append 1 to links, indicating a match\n",
        "print(len(links))"
      ]
    },
    {
      "cell_type": "code",
      "execution_count": 179,
      "id": "ca875110",
      "metadata": {},
      "outputs": [
        {
          "name": "stdout",
          "output_type": "stream",
          "text": [
            "18\n"
          ]
        }
      ],
      "source": [
        "links = 0\n",
        "for row in row_not_header:\n",
        "    cell = row.select(\"td\")[1]  # select the second td element\n",
        "    link = cell.select(\"a\")  # if a link exists in cell\n",
        "    if link:  # If such a link exists increment links by 1\n",
        "        links += 1\n",
        "print(links)"
      ]
    },
    {
      "cell_type": "markdown",
      "id": "317eb366-55fb-446d-a105-22dffe4b9db3",
      "metadata": {},
      "source": [
        "### 12) How many have an image?\n",
        "\n",
        "You could do this by testing for the presence of another element:"
      ]
    },
    {
      "cell_type": "code",
      "execution_count": 180,
      "id": "ab25e8c3-4744-4198-9707-9845a843053e",
      "metadata": {},
      "outputs": [
        {
          "name": "stdout",
          "output_type": "stream",
          "text": [
            "61\n"
          ]
        }
      ],
      "source": [
        "# Find the index of the \"Image\" column\n",
        "# image_index = column_names.index(\"Image\")\n",
        "\n",
        "# Initialize a counter\n",
        "image_count = 0\n",
        "\n",
        "# Loop over the rows\n",
        "for row in row_not_header:\n",
        "    # Select the cell in the \"Image\" column (the third column)\n",
        "    cell = row.select(\"td\")[2]\n",
        "    # Check if the cell contains an image tag\n",
        "    if cell.select(\"img\"):\n",
        "        image_count += 1\n",
        "\n",
        "print(image_count)\n"
      ]
    },
    {
      "cell_type": "markdown",
      "id": "630b88de-02df-45e4-8cf6-f15eb5507ae3",
      "metadata": {},
      "source": [
        "Or through information that's already in your `DataFrame`:"
      ]
    },
    {
      "cell_type": "code",
      "execution_count": 170,
      "id": "5434878d-7c14-405c-bb6d-5547a06d398c",
      "metadata": {},
      "outputs": [
        {
          "name": "stdout",
          "output_type": "stream",
          "text": [
            "61\n"
          ]
        }
      ],
      "source": [
        "# Count the number of rows where the \"Image\" column is not \"Upload image\"\n",
        "image_count = (df[\"Image\"] != \"Upload image\").sum()\n",
        "\n",
        "print(image_count)\n"
      ]
    },
    {
      "cell_type": "markdown",
      "id": "e3a7067b",
      "metadata": {},
      "source": [
        "### Bonus challenge\n",
        "\n",
        "If we tried to run the same code on https://en.wikipedia.org/wiki/List_of_tallest_buildings_in_New_York_City instead, the results wouldn't be quite right. Try it. Then, examining the HTML of that page, try to figure out why.\n",
        "\n",
        "If you want an extra-extra challenge, try writing code that would parse that table correctly."
      ]
    },
    {
      "cell_type": "code",
      "execution_count": 182,
      "id": "2e9ba66c",
      "metadata": {},
      "outputs": [
        {
          "data": {
            "text/html": [
              "<div>\n",
              "<style scoped>\n",
              "    .dataframe tbody tr th:only-of-type {\n",
              "        vertical-align: middle;\n",
              "    }\n",
              "\n",
              "    .dataframe tbody tr th {\n",
              "        vertical-align: top;\n",
              "    }\n",
              "\n",
              "    .dataframe thead th {\n",
              "        text-align: right;\n",
              "    }\n",
              "</style>\n",
              "<table border=\"1\" class=\"dataframe\">\n",
              "  <thead>\n",
              "    <tr style=\"text-align: right;\">\n",
              "      <th></th>\n",
              "      <th>Rank</th>\n",
              "      <th>Name</th>\n",
              "      <th>Image</th>\n",
              "      <th>Heightft (m)</th>\n",
              "      <th>Floors[H]</th>\n",
              "      <th>Year</th>\n",
              "      <th>Address</th>\n",
              "      <th>Coordinates</th>\n",
              "      <th>Notes</th>\n",
              "    </tr>\n",
              "  </thead>\n",
              "  <tbody>\n",
              "    <tr>\n",
              "      <th>0</th>\n",
              "      <td>Rank</td>\n",
              "      <td>Name</td>\n",
              "      <td>Image</td>\n",
              "      <td>Heightft (m)</td>\n",
              "      <td>Floors[H]</td>\n",
              "      <td>Year</td>\n",
              "      <td>Address</td>\n",
              "      <td>Coordinates</td>\n",
              "      <td>Notes</td>\n",
              "    </tr>\n",
              "    <tr>\n",
              "      <th>1</th>\n",
              "      <td>1</td>\n",
              "      <td>One World Trade Center</td>\n",
              "      <td></td>\n",
              "      <td>1,776 (541)</td>\n",
              "      <td>94[A]</td>\n",
              "      <td>2014</td>\n",
              "      <td>285Fulton Street</td>\n",
              "      <td>40°42′47″N74°00′49″W﻿ / ﻿40.713°N 74.0135°W﻿ /...</td>\n",
              "      <td>Also known as the Freedom Tower. Tallest build...</td>\n",
              "    </tr>\n",
              "    <tr>\n",
              "      <th>2</th>\n",
              "      <td>2</td>\n",
              "      <td>Central Park Tower</td>\n",
              "      <td></td>\n",
              "      <td>1,550 (472)</td>\n",
              "      <td>99</td>\n",
              "      <td>2021</td>\n",
              "      <td>225 West57th Street</td>\n",
              "      <td>40°45′57″N73°58′51″W﻿ / ﻿40.7659°N 73.98089°W﻿...</td>\n",
              "      <td>Also known asNordstromTower. At 1,550 feet, it...</td>\n",
              "    </tr>\n",
              "    <tr>\n",
              "      <th>3</th>\n",
              "      <td>3</td>\n",
              "      <td>111 West 57th Street</td>\n",
              "      <td></td>\n",
              "      <td>1,428 (435)</td>\n",
              "      <td>85</td>\n",
              "      <td>2022</td>\n",
              "      <td>111 West57th Street</td>\n",
              "      <td>40°45′52″N73°58′40″W﻿ / ﻿40.76455°N 73.97765°W...</td>\n",
              "      <td>Also known asSteinwayTower. It is the world'sm...</td>\n",
              "    </tr>\n",
              "    <tr>\n",
              "      <th>4</th>\n",
              "      <td>4</td>\n",
              "      <td>One Vanderbilt</td>\n",
              "      <td></td>\n",
              "      <td>1,401 (427)</td>\n",
              "      <td>73</td>\n",
              "      <td>2020</td>\n",
              "      <td>1Vanderbilt Avenue</td>\n",
              "      <td>40°45′11″N73°58′43″W﻿ / ﻿40.7530°N 73.9785°W﻿ ...</td>\n",
              "      <td>Second-tallest office building in NYC.[38]Tall...</td>\n",
              "    </tr>\n",
              "    <tr>\n",
              "      <th>...</th>\n",
              "      <td>...</td>\n",
              "      <td>...</td>\n",
              "      <td>...</td>\n",
              "      <td>...</td>\n",
              "      <td>...</td>\n",
              "      <td>...</td>\n",
              "      <td>...</td>\n",
              "      <td>...</td>\n",
              "      <td>...</td>\n",
              "    </tr>\n",
              "    <tr>\n",
              "      <th>105</th>\n",
              "      <td>105</td>\n",
              "      <td>1 Wall Street</td>\n",
              "      <td></td>\n",
              "      <td>654 (199)</td>\n",
              "      <td>50</td>\n",
              "      <td>1932</td>\n",
              "      <td>1Wall Street</td>\n",
              "      <td>40°42′26″N74°00′42″W﻿ / ﻿40.707222°N 74.011667...</td>\n",
              "      <td>It was formerly calledBank of New YorkBuilding...</td>\n",
              "    </tr>\n",
              "    <tr>\n",
              "      <th>106</th>\n",
              "      <td>106 =</td>\n",
              "      <td>599 Lexington Avenue</td>\n",
              "      <td></td>\n",
              "      <td>653 (199)</td>\n",
              "      <td>51</td>\n",
              "      <td>1986</td>\n",
              "      <td>599Lexington Avenue</td>\n",
              "      <td>40°45′28″N73°58′15″W﻿ / ﻿40.7578°N 73.9707°W﻿ ...</td>\n",
              "      <td>[247][248]</td>\n",
              "    </tr>\n",
              "    <tr>\n",
              "      <th>107</th>\n",
              "      <td>106 =</td>\n",
              "      <td>Silver TowersI</td>\n",
              "      <td></td>\n",
              "      <td>653 (199)</td>\n",
              "      <td>58</td>\n",
              "      <td>2009</td>\n",
              "      <td>620 West42nd Street</td>\n",
              "      <td>40°45′39″N73°59′57″W﻿ / ﻿40.760722°N 73.999194...</td>\n",
              "      <td>Also known as River Place.[249][250]</td>\n",
              "    </tr>\n",
              "    <tr>\n",
              "      <th>108</th>\n",
              "      <td>106 =</td>\n",
              "      <td>Silver TowersII</td>\n",
              "      <td>653 (199)</td>\n",
              "      <td>58</td>\n",
              "      <td>2009</td>\n",
              "      <td>620 West42nd Street</td>\n",
              "      <td>40°45′39″N73°59′57″W﻿ / ﻿40.760722°N 73.999194...</td>\n",
              "      <td>Also known as River Place.[251][252]</td>\n",
              "      <td>None</td>\n",
              "    </tr>\n",
              "    <tr>\n",
              "      <th>109</th>\n",
              "      <td>109</td>\n",
              "      <td>712 Fifth Avenue</td>\n",
              "      <td></td>\n",
              "      <td>650 (198)</td>\n",
              "      <td>53</td>\n",
              "      <td>1990</td>\n",
              "      <td>712Fifth Avenue</td>\n",
              "      <td>40°45′44″N73°58′30″W﻿ / ﻿40.7622°N 73.975°W﻿ /...</td>\n",
              "      <td>[253][254]</td>\n",
              "    </tr>\n",
              "  </tbody>\n",
              "</table>\n",
              "<p>110 rows × 9 columns</p>\n",
              "</div>"
            ],
            "text/plain": [
              "      Rank                    Name      Image  Heightft (m)  Floors[H]  \\\n",
              "0     Rank                    Name      Image  Heightft (m)  Floors[H]   \n",
              "1        1  One World Trade Center              1,776 (541)      94[A]   \n",
              "2        2      Central Park Tower              1,550 (472)         99   \n",
              "3        3    111 West 57th Street              1,428 (435)         85   \n",
              "4        4          One Vanderbilt              1,401 (427)         73   \n",
              "..     ...                     ...        ...           ...        ...   \n",
              "105    105           1 Wall Street                654 (199)         50   \n",
              "106  106 =    599 Lexington Avenue                653 (199)         51   \n",
              "107  106 =          Silver TowersI                653 (199)         58   \n",
              "108  106 =         Silver TowersII  653 (199)            58       2009   \n",
              "109    109        712 Fifth Avenue                650 (198)         53   \n",
              "\n",
              "                    Year                                            Address  \\\n",
              "0                   Year                                            Address   \n",
              "1                   2014                                   285Fulton Street   \n",
              "2                   2021                                225 West57th Street   \n",
              "3                   2022                                111 West57th Street   \n",
              "4                   2020                                 1Vanderbilt Avenue   \n",
              "..                   ...                                                ...   \n",
              "105                 1932                                       1Wall Street   \n",
              "106                 1986                                599Lexington Avenue   \n",
              "107                 2009                                620 West42nd Street   \n",
              "108  620 West42nd Street  40°45′39″N73°59′57″W﻿ / ﻿40.760722°N 73.999194...   \n",
              "109                 1990                                    712Fifth Avenue   \n",
              "\n",
              "                                           Coordinates  \\\n",
              "0                                          Coordinates   \n",
              "1    40°42′47″N74°00′49″W﻿ / ﻿40.713°N 74.0135°W﻿ /...   \n",
              "2    40°45′57″N73°58′51″W﻿ / ﻿40.7659°N 73.98089°W﻿...   \n",
              "3    40°45′52″N73°58′40″W﻿ / ﻿40.76455°N 73.97765°W...   \n",
              "4    40°45′11″N73°58′43″W﻿ / ﻿40.7530°N 73.9785°W﻿ ...   \n",
              "..                                                 ...   \n",
              "105  40°42′26″N74°00′42″W﻿ / ﻿40.707222°N 74.011667...   \n",
              "106  40°45′28″N73°58′15″W﻿ / ﻿40.7578°N 73.9707°W﻿ ...   \n",
              "107  40°45′39″N73°59′57″W﻿ / ﻿40.760722°N 73.999194...   \n",
              "108               Also known as River Place.[251][252]   \n",
              "109  40°45′44″N73°58′30″W﻿ / ﻿40.7622°N 73.975°W﻿ /...   \n",
              "\n",
              "                                                 Notes  \n",
              "0                                                Notes  \n",
              "1    Also known as the Freedom Tower. Tallest build...  \n",
              "2    Also known asNordstromTower. At 1,550 feet, it...  \n",
              "3    Also known asSteinwayTower. It is the world'sm...  \n",
              "4    Second-tallest office building in NYC.[38]Tall...  \n",
              "..                                                 ...  \n",
              "105  It was formerly calledBank of New YorkBuilding...  \n",
              "106                                         [247][248]  \n",
              "107               Also known as River Place.[249][250]  \n",
              "108                                               None  \n",
              "109                                         [253][254]  \n",
              "\n",
              "[110 rows x 9 columns]"
            ]
          },
          "execution_count": 182,
          "metadata": {},
          "output_type": "execute_result"
        }
      ],
      "source": [
        "# Load the page\n",
        "url = \"https://en.wikipedia.org/wiki/List_of_tallest_buildings_in_New_York_City\"\n",
        "response = requests.get(url)\n",
        "soup = BeautifulSoup(response.text, 'html.parser')\n",
        "\n",
        "# Find the table - assuming it's the first table of class 'wikitable'\n",
        "table = soup.find('table', {'class': 'wikitable'})\n",
        "\n",
        "# Initialize a list to store row data\n",
        "rows_list = []\n",
        "\n",
        "# Process table headers\n",
        "headers = [header.text.strip() for header in table.find_all('th')]\n",
        "\n",
        "# Iterate over table rows\n",
        "for row in table.find_all('tr'):\n",
        "    cells = row.find_all(['td', 'th'])\n",
        "    if cells:\n",
        "        row_data = []\n",
        "        for cell in cells:\n",
        "            # Handle cell text and cleanup\n",
        "            cell_text = cell.get_text(strip=True)\n",
        "            # Optionally, handle 'rowspan'/'colspan'\n",
        "            row_data.append(cell_text)\n",
        "        rows_list.append(row_data)\n",
        "\n",
        "# Convert list of rows into a DataFrame\n",
        "df = pd.DataFrame(rows_list, columns=headers)\n",
        "df\n"
      ]
    },
    {
      "cell_type": "markdown",
      "id": "fac108f8-9c41-451a-a481-f2bfde3372e5",
      "metadata": {},
      "source": [
        "---\n",
        "\n",
        "---\n",
        "\n",
        "---"
      ]
    }
  ],
  "metadata": {
    "kernelspec": {
      "display_name": "Python 3 (ipykernel)",
      "language": "python",
      "name": "python3"
    },
    "language_info": {
      "codemirror_mode": {
        "name": "ipython",
        "version": 3
      },
      "file_extension": ".py",
      "mimetype": "text/x-python",
      "name": "python",
      "nbconvert_exporter": "python",
      "pygments_lexer": "ipython3",
      "version": "3.11.8"
    }
  },
  "nbformat": 4,
  "nbformat_minor": 5
}
